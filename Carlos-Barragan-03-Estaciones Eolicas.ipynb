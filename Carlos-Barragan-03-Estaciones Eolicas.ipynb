{
 "cells": [
  {
   "cell_type": "code",
   "execution_count": 11,
   "metadata": {},
   "outputs": [
    {
     "ename": "NameError",
     "evalue": "name 'Estacion1' is not defined",
     "output_type": "error",
     "traceback": [
      "\u001b[1;31m---------------------------------------------------------------------------\u001b[0m",
      "\u001b[1;31mNameError\u001b[0m                                 Traceback (most recent call last)",
      "\u001b[1;32m<ipython-input-11-b31a22cf657a>\u001b[0m in \u001b[0;36m<module>\u001b[1;34m\u001b[0m\n\u001b[1;32m----> 1\u001b[1;33m \u001b[0mEstacion1\u001b[0m \u001b[1;33m=\u001b[0m \u001b[0mEstacion1\u001b[0m\u001b[1;33m[\u001b[0m\u001b[1;36m1\u001b[0m\u001b[1;33m:\u001b[0m\u001b[1;33m]\u001b[0m\u001b[1;33m\u001b[0m\u001b[1;33m\u001b[0m\u001b[0m\n\u001b[0m",
      "\u001b[1;31mNameError\u001b[0m: name 'Estacion1' is not defined"
     ]
    }
   ],
   "source": [
    "Estacion1 = Estacion1[1:]"
   ]
  },
  {
   "cell_type": "code",
   "execution_count": 10,
   "metadata": {},
   "outputs": [
    {
     "name": "stdout",
     "output_type": "stream",
     "text": [
      "Bueno\n"
     ]
    }
   ],
   "source": [
    "## escribe el archivo en forma de tabla de texto\n",
    "import csv\n",
    "\n",
    "requerimiento1=[['nombre de la estacion','fecha en el formato YYYY-MM-DD.','Año','Mes','Día','HHMMSS','Hora (HH)','Minuto']]\n",
    "with open('C:\\\\Users\\\\Estudiante\\\\Desktop\\\\5Trimestre\\\\Pythonn\\\\Estaciones Eolicas\\\\files\\\\06\\\\requerimiento1.csv', 'w', newline='') as ejercicio1:             # abre el archivo para escritura\n",
    "    writer = csv.writer(ejercicio1,delimiter=\";\")\n",
    "    writer.writerows(requerimiento1)\n",
    "    print('Bueno')"
   ]
  },
  {
   "cell_type": "code",
   "execution_count": 14,
   "metadata": {},
   "outputs": [
    {
     "name": "stdout",
     "output_type": "stream",
     "text": [
      "Bueno\n"
     ]
    }
   ],
   "source": [
    "## escribe el archivo en forma de tabla de texto\n",
    "import csv\n",
    "\n",
    "requerimiento2=[['nombre de la estacion','Año','Mes','Día','Hora','Velocidad media del viento para la correspodiente hora.']]\n",
    "with open('C:\\\\Users\\\\Estudiante\\\\Desktop\\\\5Trimestre\\\\Pythonn\\\\Estaciones Eolicas\\\\files\\\\06\\\\requerimiento2.csv', 'w', newline='') as ejercicio2:             # abre el archivo para escritura\n",
    "    write = csv.writer(ejercicio2,delimiter=\";\")\n",
    "    write.writerows(requerimiento2)\n",
    "    print('Bueno')"
   ]
  },
  {
   "cell_type": "code",
   "execution_count": 15,
   "metadata": {},
   "outputs": [
    {
     "name": "stdout",
     "output_type": "stream",
     "text": [
      "Bueno\n"
     ]
    }
   ],
   "source": [
    "## escribe el archivo en forma de tabla de texto\n",
    "import csv\n",
    "\n",
    "requerimiento3=[['Estacion','Año','Mes','Velocidad media del viento para ese mes y ese año.']]\n",
    "with open('C:\\\\Users\\\\Estudiante\\\\Desktop\\\\5Trimestre\\\\Pythonn\\\\Estaciones Eolicas\\\\files\\\\06\\\\requerimiento3.csv', 'w', newline='') as ejercicio3:             # abre el archivo para escritura\n",
    "    write = csv.writer(ejercicio3,delimiter=\";\")\n",
    "    write.writerows(requerimiento3)\n",
    "    print('Bueno')"
   ]
  },
  {
   "cell_type": "code",
   "execution_count": 16,
   "metadata": {},
   "outputs": [
    {
     "name": "stdout",
     "output_type": "stream",
     "text": [
      "Bueno\n"
     ]
    }
   ],
   "source": [
    "## escribe el archivo en forma de tabla de texto\n",
    "import csv\n",
    "\n",
    "requerimiento4=[['Estacion','Año','Velocidad media por dicho año.']]\n",
    "with open('C:\\\\Users\\\\Estudiante\\\\Desktop\\\\5Trimestre\\\\Pythonn\\\\Estaciones Eolicas\\\\files\\\\06\\\\requerimiento4.csv', 'w', newline='') as ejercicio4:             # abre el archivo para escritura\n",
    "    write = csv.writer(ejercicio4,delimiter=\";\")\n",
    "    write.writerows(requerimiento4)\n",
    "    print('Bueno')"
   ]
  },
  {
   "cell_type": "code",
   "execution_count": 17,
   "metadata": {},
   "outputs": [
    {
     "name": "stdout",
     "output_type": "stream",
     "text": [
      "Bueno\n"
     ]
    }
   ],
   "source": [
    "## escribe el archivo en forma de tabla de texto\n",
    "import csv\n",
    "\n",
    "requerimiento5=[['Estacion','Mes','Velocidad media para ese hora calculada sobre todos los datos.']]\n",
    "with open('C:\\\\Users\\\\Estudiante\\\\Desktop\\\\5Trimestre\\\\Pythonn\\\\Estaciones Eolicas\\\\files\\\\06\\\\requerimiento5.csv', 'w', newline='') as ejercicio5:             # abre el archivo para escritura\n",
    "    write = csv.writer(ejercicio5,delimiter=\";\")\n",
    "    write.writerows(requerimiento5)\n",
    "    print('Bueno')"
   ]
  },
  {
   "cell_type": "code",
   "execution_count": 19,
   "metadata": {},
   "outputs": [
    {
     "name": "stdout",
     "output_type": "stream",
     "text": [
      "Bueno\n"
     ]
    }
   ],
   "source": [
    "## escribe el archivo en forma de tabla de texto\n",
    "import csv\n",
    "\n",
    "requerimiento6=[['Estacion','Hora','Velocidad media para ese hora calculada sobre todos los datos.']]\n",
    "with open('C:\\\\Users\\\\Estudiante\\\\Desktop\\\\5Trimestre\\\\Pythonn\\\\Estaciones Eolicas\\\\files\\\\06\\\\requerimiento6.csv', 'w', newline='') as ejercicio6:             # abre el archivo para escritura\n",
    "    write = csv.writer(ejercicio6,delimiter=\";\")\n",
    "    write.writerows(requerimiento6)\n",
    "    print('Bueno')"
   ]
  },
  {
   "cell_type": "code",
   "execution_count": 20,
   "metadata": {},
   "outputs": [
    {
     "name": "stdout",
     "output_type": "stream",
     "text": [
      "Bueno\n"
     ]
    }
   ],
   "source": [
    "## escribe el archivo en forma de tabla de texto\n",
    "import csv\n",
    "\n",
    "requerimiento7=[['Estacion','Mes (MM).','Hora (HH)','Velocidad media para ese mes y esa hora calculada sobre todos los datos..']]\n",
    "with open('C:\\\\Users\\\\Estudiante\\\\Desktop\\\\5Trimestre\\\\Pythonn\\\\Estaciones Eolicas\\\\files\\\\06\\\\requerimiento7.csv', 'w', newline='') as ejercicio7:             # abre el archivo para escritura\n",
    "    write = csv.writer(ejercicio7,delimiter=\";\")\n",
    "    write.writerows(requerimiento7)\n",
    "    print('Bueno')"
   ]
  },
  {
   "cell_type": "code",
   "execution_count": null,
   "metadata": {},
   "outputs": [],
   "source": []
  }
 ],
 "metadata": {
  "kernelspec": {
   "display_name": "Python 3",
   "language": "python",
   "name": "python3"
  },
  "language_info": {
   "codemirror_mode": {
    "name": "ipython",
    "version": 3
   },
   "file_extension": ".py",
   "mimetype": "text/x-python",
   "name": "python",
   "nbconvert_exporter": "python",
   "pygments_lexer": "ipython3",
   "version": "3.7.3"
  }
 },
 "nbformat": 4,
 "nbformat_minor": 2
}
